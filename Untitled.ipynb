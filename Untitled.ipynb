{
 "cells": [
  {
   "cell_type": "code",
   "execution_count": 1,
   "metadata": {},
   "outputs": [],
   "source": [
    "import torch\n",
    "import numpy as np\n",
    "import os\n",
    "from torch.autograd import Variable\n",
    "import torch.nn as nn\n",
    "import torchvision.datasets as datasets\n",
    "import torchvision.transforms as transforms\n",
    "import torch.nn.functional as F\n",
    "import collections"
   ]
  },
  {
   "cell_type": "code",
   "execution_count": 16,
   "metadata": {},
   "outputs": [],
   "source": [
    "class Vocab():\n",
    "    def __init__(self,data_dir):\n",
    "        self.data_dir =data_dir\n",
    "\n",
    "    def preprocess(self):\n",
    "        self.train_name = self.data_dir +\"/train.txt\"\n",
    "        self.valid_name = self.data_dir +\"/valid.txt\"\n",
    "        self.test_name = self.data_dir +\"/test.txt\"\n",
    "        if not (os.path.exists(self.train_name) and os.path.exists(self.valid_name)):\n",
    "            f1 = open(self.train_name, \"w\",'utf-8')\n",
    "            f2 = open(self.valid_name, \"w\",\"utf-8\")\n",
    "            f3 = open(self.test_name, \"w\", \"utf-8\")\n",
    "            file_name =self.data_dir +\"/input.txt\"\n",
    "            count =0\n",
    "            self.train_len = 0\n",
    "            self.valid_len = 0\n",
    "            self.test_len = 0\n",
    "            with open(file_name,\"r\") as f:\n",
    "                for line in f:\n",
    "                    count+=1\n",
    "                    if count==9:\n",
    "                        f2.write(line)\n",
    "                        self.valid_len += 1\n",
    "                    elif count ==10:\n",
    "                        f3.write(line)\n",
    "                        self.test_len+=1\n",
    "                        count =0\n",
    "                    else:\n",
    "                        f1.write(line)\n",
    "                        self.train_len += 0\n",
    "            f1.close()\n",
    "            f2.close()\n",
    "            f3.close()\n",
    "        return\n",
    "    def create_vocab(self):\n",
    "        file_name =self.data_dir +\"/input.txt\"\n",
    "        count =0\n",
    "        with open(file_name,\"r\") as f:\n",
    "            data =f.read()\n",
    "        counter = collections.Counter(data)\n",
    "        count_pairs = sorted(counter.items(), key=lambda x: -x[1])\n",
    "        self.chars, _ = zip(*count_pairs)\n",
    "        self.vocab_size = len(self.chars)\n",
    "        self.vocab = dict(zip(self.chars,range(len(self.chars))))\n",
    "        print(\"vocab\",self.vocab)\n",
    "        return\n",
    "\n",
    "\n"
   ]
  },
  {
   "cell_type": "code",
   "execution_count": null,
   "metadata": {},
   "outputs": [],
   "source": [
    "    "
   ]
  },
  {
   "cell_type": "code",
   "execution_count": 17,
   "metadata": {},
   "outputs": [
    {
     "name": "stdout",
     "output_type": "stream",
     "text": [
      "vocab {' ': 0, 'e': 1, 't': 2, 'o': 3, 'a': 4, 'h': 5, 's': 6, 'r': 7, 'n': 8, 'i': 9, '\\n': 10, 'l': 11, 'd': 12, 'u': 13, 'm': 14, 'y': 15, ',': 16, 'w': 17, 'f': 18, 'c': 19, 'g': 20, 'I': 21, 'b': 22, 'p': 23, ':': 24, '.': 25, 'A': 26, 'v': 27, 'k': 28, 'T': 29, \"'\": 30, 'E': 31, 'O': 32, 'N': 33, 'R': 34, 'S': 35, 'L': 36, 'C': 37, ';': 38, 'W': 39, 'U': 40, 'H': 41, 'M': 42, 'B': 43, '?': 44, 'G': 45, '!': 46, 'D': 47, '-': 48, 'F': 49, 'Y': 50, 'P': 51, 'K': 52, 'V': 53, 'j': 54, 'q': 55, 'x': 56, 'z': 57, 'J': 58, 'Q': 59, 'Z': 60, 'X': 61, '3': 62, '&': 63, '$': 64}\n"
     ]
    }
   ],
   "source": [
    "t = Vocab(\"data\")\n",
    "t.preprocess()\n",
    "t.create_vocab()\n",
    "\n"
   ]
  },
  {
   "cell_type": "code",
   "execution_count": 23,
   "metadata": {},
   "outputs": [
    {
     "ename": "TypeError",
     "evalue": "an integer is required (got type str)",
     "output_type": "error",
     "traceback": [
      "\u001b[0;31m---------------------------------------------------------------------------\u001b[0m",
      "\u001b[0;31mTypeError\u001b[0m                                 Traceback (most recent call last)",
      "\u001b[0;32m<ipython-input-23-ac82b2509be8>\u001b[0m in \u001b[0;36m<module>\u001b[0;34m()\u001b[0m\n\u001b[0;32m----> 1\u001b[0;31m \u001b[0mf1\u001b[0m \u001b[0;34m=\u001b[0m \u001b[0mopen\u001b[0m\u001b[0;34m(\u001b[0m\u001b[0mt\u001b[0m\u001b[0;34m.\u001b[0m\u001b[0mtrain_name\u001b[0m\u001b[0;34m,\u001b[0m\u001b[0;34m'r'\u001b[0m\u001b[0;34m,\u001b[0m\u001b[0;34m'utf-8'\u001b[0m\u001b[0;34m)\u001b[0m\u001b[0;34m\u001b[0m\u001b[0m\n\u001b[0m\u001b[1;32m      2\u001b[0m \u001b[0mdata\u001b[0m \u001b[0;34m=\u001b[0m \u001b[0mf1\u001b[0m\u001b[0;34m.\u001b[0m\u001b[0mread\u001b[0m\u001b[0;34m(\u001b[0m\u001b[0;34m)\u001b[0m\u001b[0;34m\u001b[0m\u001b[0m\n\u001b[1;32m      3\u001b[0m \u001b[0mtlen\u001b[0m \u001b[0;34m=\u001b[0m\u001b[0;36m300\u001b[0m\u001b[0;34m\u001b[0m\u001b[0m\n\u001b[1;32m      4\u001b[0m \u001b[0mdata\u001b[0m\u001b[0;34m[\u001b[0m\u001b[0;36m0\u001b[0m\u001b[0;34m:\u001b[0m\u001b[0;36m300\u001b[0m\u001b[0;34m]\u001b[0m\u001b[0;34m\u001b[0m\u001b[0m\n\u001b[1;32m      5\u001b[0m \u001b[0;34m\u001b[0m\u001b[0m\n",
      "\u001b[0;31mTypeError\u001b[0m: an integer is required (got type str)"
     ]
    }
   ],
   "source": [
    "f1 = open(t.train_name,'r','utf-8')\n",
    "data = f1.read()\n",
    "tlen =300\n",
    "data[0:300]\n",
    "\n"
   ]
  },
  {
   "cell_type": "code",
   "execution_count": null,
   "metadata": {},
   "outputs": [],
   "source": []
  }
 ],
 "metadata": {
  "kernelspec": {
   "display_name": "Python 3",
   "language": "python",
   "name": "python3"
  },
  "language_info": {
   "codemirror_mode": {
    "name": "ipython",
    "version": 3
   },
   "file_extension": ".py",
   "mimetype": "text/x-python",
   "name": "python",
   "nbconvert_exporter": "python",
   "pygments_lexer": "ipython3",
   "version": "3.6.4"
  }
 },
 "nbformat": 4,
 "nbformat_minor": 2
}
